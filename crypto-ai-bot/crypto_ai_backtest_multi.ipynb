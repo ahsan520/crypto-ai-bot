{
 "cells": [
  {
   "cell_type": "markdown",
   "id": "f56b374a",
   "metadata": {},
   "source": [
    "# Crypto AI Backtest (Multi-Coin)\n",
    "\n",
    "This notebook trains an AI model on BTC then applies it to BTC, GALA and XRP. It backtests a Bollinger+AI-filtered strategy on each coin and shows performance metrics and equity curves.\n",
    "\n",
    "**Run in Google Colab or Jupyter.** Uncomment the pip installs if needed."
   ]
  },
  {
   "cell_type": "code",
   "execution_count": null,
   "id": "cdc45205",
   "metadata": {},
   "outputs": [],
   "source": [
    "# Install packages if running in a fresh environment\n",
    "# !pip install yfinance pandas numpy ta scikit-learn joblib vectorbt matplotlib\n"
   ]
  },
  {
   "cell_type": "code",
   "execution_count": null,
   "id": "66aca516",
   "metadata": {},
   "outputs": [],
   "source": [
    "import yfinance as yf\n",
    "import pandas as pd\n",
    "import numpy as np\n",
    "import ta\n",
    "from sklearn.ensemble import RandomForestClassifier\n",
    "from sklearn.model_selection import train_test_split\n",
    "from sklearn.metrics import classification_report\n",
    "import joblib\n",
    "import vectorbt as vbt\n",
    "import matplotlib.pyplot as plt\n",
    "\n",
    "pd.options.display.max_columns = 100\n"
   ]
  },
  {
   "cell_type": "markdown",
   "id": "19101c48",
   "metadata": {},
   "source": [
    "## Step 1 — Download 30m OHLCV data for BTC, GALA, XRP (180 days)"
   ]
  },
  {
   "cell_type": "code",
   "execution_count": null,
   "id": "f623243c",
   "metadata": {},
   "outputs": [],
   "source": [
    "symbols = ['BTC-USD', 'GALA-USD', 'XRP-USD']\n",
    "interval = '30m'\n",
    "period = '180d'\n",
    "\n",
    "price_data = {}\n",
    "for sym in symbols:\n",
    "    print(f'Downloading {sym}...')\n",
    "    df = yf.download(sym, period=period, interval=interval, progress=False)\n",
    "    if df.empty:\n",
    "        print(f'Warning: no data for {sym}')\n",
    "    price_data[sym] = df.dropna()\n",
    "\n",
    "# show samples\n",
    "for s, df in price_data.items():\n",
    "    print(s, 'rows:', len(df))\n",
    "    display(df.head())\n"
   ]
  },
  {
   "cell_type": "markdown",
   "id": "181b1265",
   "metadata": {},
   "source": [
    "## Step 2 — Feature engineering function (RSI, MACD, Bollinger, volume change, candlestick features)"
   ]
  },
  {
   "cell_type": "code",
   "execution_count": null,
   "id": "23989bd9",
   "metadata": {},
   "outputs": [],
   "source": [
    "def build_features(df):\n",
    "    df = df.copy()\n",
    "    # Indicators\n",
    "    df['rsi'] = ta.momentum.RSIIndicator(df['Close']).rsi()\n",
    "    macd = ta.trend.MACD(df['Close'])\n",
    "    df['macd'] = macd.macd()\n",
    "    df['macd_signal'] = macd.macd_signal()\n",
    "    bb = ta.volatility.BollingerBands(df['Close'])\n",
    "    df['bb_mid'] = bb.bollinger_mavg()\n",
    "    df['bb_high'] = bb.bollinger_hband()\n",
    "    df['bb_low'] = bb.bollinger_lband()\n",
    "    df['bb_width'] = (df['bb_high'] - df['bb_low']) / df['bb_mid']\n",
    "    df['percent_b'] = (df['Close'] - df['bb_low']) / (df['bb_high'] - df['bb_low'])\n",
    "    df['volume_change'] = df['Volume'].pct_change()\n",
    "\n",
    "    # Candlestick features: shooting star & hammer simple heuristics\n",
    "    o = df['Open']; h = df['High']; l = df['Low']; c = df['Close']\n",
    "    body = abs(c - o)\n",
    "    candle_range = h - l\n",
    "    upper_shadow = h - np.maximum(o, c)\n",
    "    lower_shadow = np.minimum(o, c) - l\n",
    "    df['shooting_star'] = ((body <= 0.3*candle_range) & (upper_shadow >= 2*body) & (lower_shadow <= 0.2*body)).astype(int)\n",
    "    df['hammer'] = ((body <= 0.3*candle_range) & (lower_shadow >= 2*body) & (upper_shadow <= 0.2*body)).astype(int)\n",
    "\n",
    "    return df.dropna()\n",
    "\n",
    "# Build features for all symbols\n",
    "features = {sym: build_features(df) for sym, df in price_data.items()}\n",
    "for s in features:\n",
    "    print(s, 'features rows:', len(features[s]))\n",
    "    display(features[s].head())\n"
   ]
  },
  {
   "cell_type": "markdown",
   "id": "0ca0c095",
   "metadata": {},
   "source": [
    "## Step 3 — Label data for training\n",
    "\n",
    "Label definition: a future horizon of 3 bars (~90 minutes). Label = 1 if future return > 0.2% (0.002), else 0. You can tune horizon & threshold."
   ]
  },
  {
   "cell_type": "code",
   "execution_count": null,
   "id": "9b1185cc",
   "metadata": {},
   "outputs": [],
   "source": [
    "horizon = 3\n",
    "label_threshold = 0.002\n",
    "labeled = {}\n",
    "for sym, df in features.items():\n",
    "    df2 = df.copy()\n",
    "    df2['future_return'] = df2['Close'].shift(-horizon) / df2['Close'] - 1\n",
    "    df2 = df2.dropna()\n",
    "    df2['label'] = (df2['future_return'] > label_threshold).astype(int)\n",
    "    labeled[sym] = df2\n",
    "    print(sym, 'label distribution:')\n",
    "    print(df2['label'].value_counts(normalize=True).to_string())\n",
    "\n",
    "# Use BTC for training by default\n",
    "train_sym = 'BTC-USD'\n",
    "train_df = labeled[train_sym]\n",
    "train_df[['Close','future_return','label']].head()\n"
   ]
  },
  {
   "cell_type": "markdown",
   "id": "964788ac",
   "metadata": {},
   "source": [
    "## Step 4 — Prepare features and train RandomForest\n",
    "\n",
    "We use a modest feature set. Train on BTC and save model."
   ]
  },
  {
   "cell_type": "code",
   "execution_count": null,
   "id": "a8e2bb04",
   "metadata": {},
   "outputs": [],
   "source": [
    "feature_cols = ['rsi','macd','bb_mid','bb_high','bb_low','bb_width','percent_b','volume_change','shooting_star','hammer']\n",
    "X = train_df[feature_cols].fillna(0)\n",
    "y = train_df['label']\n",
    "\n",
    "# Train-test split (time-series aware: no shuffle)\n",
    "X_train, X_test, y_train, y_test = train_test_split(X, y, test_size=0.2, shuffle=False)\n",
    "\n",
    "model = RandomForestClassifier(n_estimators=200, max_depth=8, random_state=42)\n",
    "model.fit(X_train, y_train)\n",
    "\n",
    "print('Training complete')\n",
    "from sklearn.metrics import classification_report\n",
    "print(classification_report(y_test, model.predict(X_test)))\n",
    "\n",
    "# Save model\n",
    "joblib.dump(model, 'crypto_ai_model.pkl')\n",
    "print('Model saved to crypto_ai_model.pkl')\n"
   ]
  },
  {
   "cell_type": "markdown",
   "id": "0570567d",
   "metadata": {},
   "source": [
    "## Step 5 — Apply model to all symbols and backtest\n",
    "\n",
    "We will generate AI signals (1=approve trade) and then backtest Bollinger entries filtered by AI approval (entry only when price <= lower band and ai==1). Exits are price >= upper band."
   ]
  },
  {
   "cell_type": "code",
   "execution_count": null,
   "id": "b6cecbab",
   "metadata": {},
   "outputs": [],
   "source": [
    "results = {}\n",
    "for sym in symbols:\n",
    "    print('\\nProcessing', sym)\n",
    "    df = labeled[sym].copy()\n",
    "    # Align features\n",
    "    X_sym = df[feature_cols].fillna(0)\n",
    "    df['ai_signal'] = model.predict(X_sym)\n",
    "    # Bollinger rule\n",
    "    entries = (df['Close'] <= df['bb_low']) & (df['ai_signal'] == 1)\n",
    "    exits = (df['Close'] >= df['bb_high'])\n",
    "    # Shift execution to next bar\n",
    "    entries_exec = entries.shift(1).fillna(False)\n",
    "    exits_exec = exits.shift(1).fillna(False)\n",
    "\n",
    "    pf = vbt.Portfolio.from_signals(df['Close'], entries_exec, exits_exec,\n",
    "                                    init_cash=10000, fees=0.001, slippage=0.0005, freq='30T')\n",
    "    stats = pf.stats()\n",
    "    print(f'--- Stats for {sym} ---')\n",
    "    display(stats)\n",
    "    results[sym] = pf\n"
   ]
  },
  {
   "cell_type": "markdown",
   "id": "35d8b7d7",
   "metadata": {},
   "source": [
    "## Step 6 — Plot equity curves for all symbols"
   ]
  },
  {
   "cell_type": "code",
   "execution_count": null,
   "id": "c3e366f4",
   "metadata": {},
   "outputs": [],
   "source": [
    "plt.figure(figsize=(12,6))\n",
    "for sym, pf in results.items():\n",
    "    (pf.value() / pf.value().iloc[0]).vbt.plot(label=sym)\n",
    "plt.title('Normalized Equity Curves (Bollinger + AI filter)')\n",
    "plt.legend()\n",
    "plt.show()\n",
    "\n",
    "# Also show individual detailed plots if desired\n",
    "for sym, pf in results.items():\n",
    "    print('\\nDetailed plot for', sym)\n",
    "    display(pf.stats())\n",
    "    pf.plot().show()\n"
   ]
  },
  {
   "cell_type": "markdown",
   "id": "bdd8566d",
   "metadata": {},
   "source": [
    "## Next steps\n",
    "\n",
    "- Tune label threshold, horizon, model hyperparameters.\n",
    "- Consider training on combined multi-coin dataset for better generalization.\n",
    "- Add transaction costs & more realistic slippage models.\n",
    "- Run walk-forward validation and cross-validation for robustness.\n"
   ]
  }
 ],
 "metadata": {},
 "nbformat": 4,
 "nbformat_minor": 5
}
